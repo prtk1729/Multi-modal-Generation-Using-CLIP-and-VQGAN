{
 "cells": [
  {
   "cell_type": "markdown",
   "metadata": {},
   "source": []
  },
  {
   "cell_type": "code",
   "execution_count": 2,
   "metadata": {},
   "outputs": [
    {
     "name": "stdout",
     "output_type": "stream",
     "text": [
      "fatal: destination path 'CLIP' already exists and is not an empty directory.\n",
      "Cloning into 'taming-transformers'...\n",
      "^C\n"
     ]
    }
   ],
   "source": [
    "!git clone https://github.com/openai/CLIP.git\n",
    "\n",
    "\n",
    "!git clone https://github.com/CompVis/taming-transformers\n"
   ]
  },
  {
   "cell_type": "code",
   "execution_count": 4,
   "metadata": {},
   "outputs": [
    {
     "name": "stdout",
     "output_type": "stream",
     "text": [
      "Requirement already satisfied: ftfy in /usr/local/Caskroom/miniconda/base/lib/python3.9/site-packages (6.2.0)\n",
      "Requirement already satisfied: regex in /usr/local/Caskroom/miniconda/base/lib/python3.9/site-packages (2022.7.9)\n",
      "Requirement already satisfied: tqdm in /usr/local/Caskroom/miniconda/base/lib/python3.9/site-packages (4.65.0)\n",
      "Collecting omegaconf==2.0.0\n",
      "  Downloading omegaconf-2.0.0-py3-none-any.whl (33 kB)\n",
      "Collecting pytorch-lightning==1.0.8\n",
      "  Downloading pytorch_lightning-1.0.8-py3-none-any.whl (561 kB)\n",
      "\u001b[K     |████████████████████████████████| 561 kB 1.7 MB/s eta 0:00:01\n",
      "\u001b[?25hCollecting PyYAML\n",
      "  Using cached PyYAML-6.0.1-cp39-cp39-macosx_10_9_x86_64.whl (197 kB)\n",
      "Requirement already satisfied: typing-extensions in /usr/local/Caskroom/miniconda/base/lib/python3.9/site-packages (from omegaconf==2.0.0) (4.4.0)\n",
      "Collecting tensorboard>=2.2.0\n",
      "  Downloading tensorboard-2.17.0-py3-none-any.whl (5.5 MB)\n",
      "\u001b[K     |████████████████████████████████| 5.5 MB 1.5 MB/s eta 0:00:01\n",
      "\u001b[?25hRequirement already satisfied: torch>=1.3 in /usr/local/Caskroom/miniconda/base/lib/python3.9/site-packages (from pytorch-lightning==1.0.8) (2.0.1)\n",
      "Collecting fsspec>=0.8.0\n",
      "  Downloading fsspec-2024.6.1-py3-none-any.whl (177 kB)\n",
      "\u001b[K     |████████████████████████████████| 177 kB 1.9 MB/s eta 0:00:01\n",
      "\u001b[?25hRequirement already satisfied: numpy>=1.16.4 in /usr/local/Caskroom/miniconda/base/lib/python3.9/site-packages (from pytorch-lightning==1.0.8) (1.25.2)\n",
      "Requirement already satisfied: future>=0.17.1 in /usr/local/Caskroom/miniconda/base/lib/python3.9/site-packages (from pytorch-lightning==1.0.8) (0.18.3)\n",
      "Requirement already satisfied: tqdm>=4.41.0 in /usr/local/Caskroom/miniconda/base/lib/python3.9/site-packages (from pytorch-lightning==1.0.8) (4.65.0)\n",
      "Collecting grpcio>=1.48.2\n",
      "  Downloading grpcio-1.64.1-cp39-cp39-macosx_10_9_universal2.whl (10.4 MB)\n",
      "\u001b[K     |████████████████████████████████| 10.4 MB 1.7 MB/s eta 0:00:01    |███████████████████████████▋    | 9.0 MB 2.7 MB/s eta 0:00:01\n",
      "\u001b[?25hCollecting markdown>=2.6.8\n",
      "  Downloading Markdown-3.6-py3-none-any.whl (105 kB)\n",
      "\u001b[K     |████████████████████████████████| 105 kB 2.2 MB/s eta 0:00:01\n",
      "\u001b[?25hRequirement already satisfied: setuptools>=41.0.0 in /usr/local/Caskroom/miniconda/base/lib/python3.9/site-packages (from tensorboard>=2.2.0->pytorch-lightning==1.0.8) (58.0.4)\n",
      "Collecting protobuf!=4.24.0,<5.0.0,>=3.19.6\n",
      "  Downloading protobuf-4.25.3-cp37-abi3-macosx_10_9_universal2.whl (394 kB)\n",
      "\u001b[K     |████████████████████████████████| 394 kB 1.8 MB/s eta 0:00:01\n",
      "\u001b[?25hCollecting tensorboard-data-server<0.8.0,>=0.7.0\n",
      "  Downloading tensorboard_data_server-0.7.2-py3-none-macosx_10_9_x86_64.whl (4.8 MB)\n",
      "\u001b[K     |████████████████████████████████| 4.8 MB 1.5 MB/s eta 0:00:01\n",
      "\u001b[?25hCollecting absl-py>=0.4\n",
      "  Downloading absl_py-2.1.0-py3-none-any.whl (133 kB)\n",
      "\u001b[K     |████████████████████████████████| 133 kB 2.1 MB/s eta 0:00:01\n",
      "\u001b[?25hRequirement already satisfied: six>1.9 in /usr/local/Caskroom/miniconda/base/lib/python3.9/site-packages (from tensorboard>=2.2.0->pytorch-lightning==1.0.8) (1.16.0)\n",
      "Requirement already satisfied: werkzeug>=1.0.1 in /usr/local/Caskroom/miniconda/base/lib/python3.9/site-packages (from tensorboard>=2.2.0->pytorch-lightning==1.0.8) (2.2.3)\n",
      "Requirement already satisfied: importlib-metadata>=4.4 in /usr/local/Caskroom/miniconda/base/lib/python3.9/site-packages (from markdown>=2.6.8->tensorboard>=2.2.0->pytorch-lightning==1.0.8) (6.0.0)\n",
      "Requirement already satisfied: zipp>=0.5 in /usr/local/Caskroom/miniconda/base/lib/python3.9/site-packages (from importlib-metadata>=4.4->markdown>=2.6.8->tensorboard>=2.2.0->pytorch-lightning==1.0.8) (3.11.0)\n",
      "Requirement already satisfied: filelock in /usr/local/Caskroom/miniconda/base/lib/python3.9/site-packages (from torch>=1.3->pytorch-lightning==1.0.8) (3.9.0)\n",
      "Requirement already satisfied: sympy in /usr/local/Caskroom/miniconda/base/lib/python3.9/site-packages (from torch>=1.3->pytorch-lightning==1.0.8) (1.11.1)\n",
      "Requirement already satisfied: networkx in /usr/local/Caskroom/miniconda/base/lib/python3.9/site-packages (from torch>=1.3->pytorch-lightning==1.0.8) (3.1)\n",
      "Requirement already satisfied: jinja2 in /usr/local/Caskroom/miniconda/base/lib/python3.9/site-packages (from torch>=1.3->pytorch-lightning==1.0.8) (3.1.2)\n",
      "Requirement already satisfied: MarkupSafe>=2.1.1 in /usr/local/Caskroom/miniconda/base/lib/python3.9/site-packages (from werkzeug>=1.0.1->tensorboard>=2.2.0->pytorch-lightning==1.0.8) (2.1.1)\n",
      "Requirement already satisfied: mpmath>=0.19 in /usr/local/Caskroom/miniconda/base/lib/python3.9/site-packages (from sympy->torch>=1.3->pytorch-lightning==1.0.8) (1.3.0)\n",
      "Installing collected packages: tensorboard-data-server, protobuf, markdown, grpcio, absl-py, tensorboard, PyYAML, fsspec, pytorch-lightning, omegaconf\n",
      "Successfully installed PyYAML-6.0.1 absl-py-2.1.0 fsspec-2024.6.1 grpcio-1.64.1 markdown-3.6 omegaconf-2.0.0 protobuf-4.25.3 pytorch-lightning-1.0.8 tensorboard-2.17.0 tensorboard-data-server-0.7.2\n",
      "\u001b[33mWARNING: Skipping torchtext as it is not installed.\u001b[0m\n",
      "Collecting einops\n",
      "  Downloading einops-0.8.0-py3-none-any.whl (43 kB)\n",
      "\u001b[K     |████████████████████████████████| 43 kB 1.5 MB/s eta 0:00:01\n",
      "\u001b[?25hInstalling collected packages: einops\n",
      "Successfully installed einops-0.8.0\n"
     ]
    }
   ],
   "source": [
    "# Some More installs\n",
    "\n",
    "!pip install --no-deps ftfy regex tqdm\n",
    "!pip install omegaconf==2.0.0 pytorch-lightning==1.0.8\n",
    "!pip uninstall torchtext --yes\n",
    "!pip install einops\n",
    "\n"
   ]
  },
  {
   "cell_type": "markdown",
   "metadata": {},
   "source": [
    "#### Imports\n"
   ]
  },
  {
   "cell_type": "code",
   "execution_count": 7,
   "metadata": {},
   "outputs": [
    {
     "ename": "ModuleNotFoundError",
     "evalue": "No module named 'imageio'",
     "output_type": "error",
     "traceback": [
      "\u001b[0;31m---------------------------------------------------------------------------\u001b[0m",
      "\u001b[0;31mModuleNotFoundError\u001b[0m                       Traceback (most recent call last)",
      "Cell \u001b[0;32mIn[7], line 6\u001b[0m\n\u001b[1;32m      3\u001b[0m \u001b[38;5;28;01mimport\u001b[39;00m \u001b[38;5;21;01mtorchvision\u001b[39;00m\u001b[38;5;21;01m.\u001b[39;00m\u001b[38;5;21;01mtransforms\u001b[39;00m\u001b[38;5;21;01m.\u001b[39;00m\u001b[38;5;21;01mfunctional\u001b[39;00m \u001b[38;5;28;01mas\u001b[39;00m \u001b[38;5;21;01mF\u001b[39;00m\n\u001b[1;32m      5\u001b[0m \u001b[38;5;28;01mimport\u001b[39;00m \u001b[38;5;21;01mtorch\u001b[39;00m\n\u001b[0;32m----> 6\u001b[0m \u001b[38;5;28;01mimport\u001b[39;00m \u001b[38;5;21;01mos\u001b[39;00m\u001b[38;5;241m,\u001b[39m \u001b[38;5;21;01mtqdm\u001b[39;00m\u001b[38;5;241m,\u001b[39m \u001b[38;5;21;01mimageio\u001b[39;00m\u001b[38;5;241m,\u001b[39m \u001b[38;5;21;01mgdb\u001b[39;00m\u001b[38;5;241m,\u001b[39m \u001b[38;5;21;01mmath\u001b[39;00m\n\u001b[1;32m      8\u001b[0m \u001b[38;5;28;01mimport\u001b[39;00m \u001b[38;5;21;01mnumpy\u001b[39;00m \u001b[38;5;28;01mas\u001b[39;00m \u001b[38;5;21;01mnp\u001b[39;00m\n\u001b[1;32m     10\u001b[0m \u001b[38;5;66;03m# viz imports\u001b[39;00m\n",
      "\u001b[0;31mModuleNotFoundError\u001b[0m: No module named 'imageio'"
     ]
    }
   ],
   "source": [
    "import torchvision\n",
    "import torchvision.transforms as transforms\n",
    "import torchvision.transforms.functional as F\n",
    "\n",
    "import torch\n",
    "import os, tqdm, imageio, gdb, math\n",
    "\n",
    "import numpy as np\n",
    "\n",
    "# viz imports\n",
    "import matplotlib.pyplot as plt\n",
    "import PIL\n",
    "\n",
    "import CLIP as clip\n",
    "from omegaconf import OmegaConf\n",
    "import yaml"
   ]
  },
  {
   "cell_type": "code",
   "execution_count": 6,
   "metadata": {},
   "outputs": [],
   "source": [
    "# supress warnings\n",
    "import warnings\n",
    "warnings.filterwarnings('ignore')"
   ]
  },
  {
   "cell_type": "code",
   "execution_count": null,
   "metadata": {},
   "outputs": [],
   "source": []
  }
 ],
 "metadata": {
  "kernelspec": {
   "display_name": "base",
   "language": "python",
   "name": "python3"
  },
  "language_info": {
   "codemirror_mode": {
    "name": "ipython",
    "version": 3
   },
   "file_extension": ".py",
   "mimetype": "text/x-python",
   "name": "python",
   "nbconvert_exporter": "python",
   "pygments_lexer": "ipython3",
   "version": "3.9.7"
  }
 },
 "nbformat": 4,
 "nbformat_minor": 2
}
